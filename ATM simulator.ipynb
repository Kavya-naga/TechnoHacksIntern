{
 "cells": [
  {
   "cell_type": "markdown",
   "id": "e2d8dc56",
   "metadata": {},
   "source": [
    "#                                           ATM Simulator"
   ]
  },
  {
   "cell_type": "code",
   "execution_count": 3,
   "id": "f2eaad2a",
   "metadata": {},
   "outputs": [
    {
     "name": "stdout",
     "output_type": "stream",
     "text": [
      "Enter your account number: 789206\n",
      "Enter your PIN: 56780\n",
      "Incorrect PIN. Please try again.\n"
     ]
    }
   ],
   "source": [
    "accounts = {\n",
    "    '159453': {'balance': 2000, 'pin': '1234'},\n",
    "    '789206': {'balance': 5000, 'pin': '5678'}\n",
    "}\n",
    "\n",
    "def display_menu():\n",
    "    print(\"Welcome to the ATM Simulator\")\n",
    "    print(\"1. Check Balance\")\n",
    "    print(\"2. Deposit\")\n",
    "    print(\"3. Withdraw\")\n",
    "    print(\"4. Exit\")\n",
    "\n",
    "def check_balance(account):\n",
    "    balance = account['balance']\n",
    "    print(f\"Your current balance is ${balance}\")\n",
    "\n",
    "def deposit(account, amount):\n",
    "    account['balance'] += amount\n",
    "    print(\"Deposit successful.\")\n",
    "    check_balance(account)\n",
    "\n",
    "def withdraw(account, amount):\n",
    "    if account['balance'] >= amount:\n",
    "        account['balance'] -= amount\n",
    "        print(\"Withdrawal successful.\")\n",
    "        check_balance(account)\n",
    "    else:\n",
    "        print(\"Insufficient funds. Withdrawal failed.\")\n",
    "        \n",
    "account_number = input(\"Enter your account number: \")\n",
    "\n",
    "if account_number in accounts:\n",
    "    account = accounts[account_number]\n",
    "    pin = input(\"Enter your PIN: \")\n",
    "    if pin == account['pin']:\n",
    "        while True:\n",
    "            display_menu()\n",
    "            choice = input(\"Enter your choice: \")\n",
    "\n",
    "            if choice == '1':\n",
    "                check_balance(account)\n",
    "            elif choice == '2':\n",
    "                amount = float(input(\"Enter the deposit amount: \"))\n",
    "                deposit(account, amount)\n",
    "            elif choice == '3':\n",
    "                amount = float(input(\"Enter the withdrawal amount: \"))\n",
    "                withdraw(account, amount)\n",
    "            elif choice == '4':\n",
    "                print(\"Thank you for using the ATM. Goodbye!\")\n",
    "                break\n",
    "            else:\n",
    "                print(\"Invalid choice. Please try again.\")\n",
    "    else:\n",
    "        print(\"Incorrect PIN. Please try again.\")\n",
    "else:\n",
    "    print(\"Account not found.\")\n",
    "\n"
   ]
  },
  {
   "cell_type": "code",
   "execution_count": null,
   "id": "90869989",
   "metadata": {},
   "outputs": [],
   "source": []
  }
 ],
 "metadata": {
  "kernelspec": {
   "display_name": "Python 3 (ipykernel)",
   "language": "python",
   "name": "python3"
  },
  "language_info": {
   "codemirror_mode": {
    "name": "ipython",
    "version": 3
   },
   "file_extension": ".py",
   "mimetype": "text/x-python",
   "name": "python",
   "nbconvert_exporter": "python",
   "pygments_lexer": "ipython3",
   "version": "3.9.13"
  }
 },
 "nbformat": 4,
 "nbformat_minor": 5
}
